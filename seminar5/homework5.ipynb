{
 "cells": [
  {
   "cell_type": "code",
   "execution_count": null,
   "metadata": {},
   "outputs": [],
   "source": [
    "# 1. Когда используется критерий Стьюдента, а когда Z–критерий?\n",
    "\n",
    "# Z–критерий используется, когда известна Сигма генеральной совокупности, в противном случае испольуют критерий Стьюдента t.\n",
    "\n",
    "# Наиболее часто t-критерии применяются для проверки равенства средних значений в двух выборках\n",
    "# Нулевая гипотеза предполагает, что средние равны.\n",
    "\n",
    "# Z–критерий обычно применяется для проверки равенства средних значений при\n",
    "# известной дисперсии генеральной совокупности или при оценке выборочного среднего стандартизованных значений"
   ]
  },
  {
   "cell_type": "code",
   "execution_count": null,
   "metadata": {},
   "outputs": [],
   "source": [
    "import numpy as np\n",
    "import scipy.stats as stats"
   ]
  },
  {
   "cell_type": "code",
   "execution_count": 3,
   "metadata": {},
   "outputs": [],
   "source": [
    "# 2. Проведите тест гипотезы. Утверждается, что шарики для подшипников, изготовленные автоматическим станком, имеют средний диаметр 17 мм.\n",
    "# Используя односторонний критерий с α=0,05, проверить эту гипотезу, если в выборке из n=100 шариков средний диаметр\n",
    "# оказался равным 17.5 мм, а дисперсия известна и равна 4 кв. мм."
   ]
  },
  {
   "cell_type": "code",
   "execution_count": 7,
   "metadata": {},
   "outputs": [
    {
     "name": "stdout",
     "output_type": "stream",
     "text": [
      "2.5\n"
     ]
    }
   ],
   "source": [
    "# Формулирование гипотез:\n",
    "# H0: μ(x) = 17 \n",
    "# H1: μ(x) > 17\n",
    "\n",
    "n = 100\n",
    "x = 17.5\n",
    "mu = 17\n",
    "sigma = 2\n",
    "\n",
    "Zh = (x - mu)/(sigma/n**0.5)\n",
    "print(Zh)"
   ]
  },
  {
   "cell_type": "code",
   "execution_count": 46,
   "metadata": {},
   "outputs": [
    {
     "name": "stdout",
     "output_type": "stream",
     "text": [
      "Табличный критерий = 1.6448536269514722\n"
     ]
    }
   ],
   "source": [
    "# α=0.05 \n",
    "print(f'Табличный критерий = {stats.norm.ppf(1-0.05)}')"
   ]
  },
  {
   "cell_type": "code",
   "execution_count": 47,
   "metadata": {},
   "outputs": [],
   "source": [
    "# Расчетное значение 𝑍н не попадает в область принятия нулевой гипотезы (Zн > Zт), делаем вывод, что\n",
    "# шарики для подшипников не имеют диаметра 17. Гипотеза верна при 𝛼=0.005"
   ]
  },
  {
   "cell_type": "code",
   "execution_count": 49,
   "metadata": {},
   "outputs": [],
   "source": [
    "# 3. Проведите тест гипотезы. Продавец утверждает, что средний вес пачки печенья составляет 200 г.\n",
    "# Из партии извлечена выборка из 10 пачек. Вес каждой пачки составляет:\n",
    "# 202, 203, 199, 197, 195, 201, 200, 204, 194, 190.\n",
    "# Известно, что их веса распределены нормально.\n",
    "# Верно ли утверждение продавца, если учитывать, что доверительная вероятность равна 99%? (Провести двусторонний тест.)"
   ]
  },
  {
   "cell_type": "code",
   "execution_count": 64,
   "metadata": {},
   "outputs": [
    {
     "name": "stdout",
     "output_type": "stream",
     "text": [
      "-1.0651074037450896\n"
     ]
    }
   ],
   "source": [
    "# Формулирование гипотез:\n",
    "# H0: μ(x) = 200\n",
    "# H1: μ(x) != 200\n",
    "\n",
    "x = np.array([202, 203, 199, 197, 195, 201, 200, 204, 194, 190])\n",
    "n = 10\n",
    "mu = 200\n",
    "sigma = np.std(x, ddof=1)\n",
    "\n",
    "Zh = (np.mean(x) - mu)/(sigma/n**0.5)\n",
    "print(Zh)"
   ]
  },
  {
   "cell_type": "code",
   "execution_count": 122,
   "metadata": {},
   "outputs": [
    {
     "name": "stdout",
     "output_type": "stream",
     "text": [
      "Табличный критерий = 3.2498355440153697\n"
     ]
    }
   ],
   "source": [
    "# α = 1 - 0.99 => 0.01 => 0.01/2 = 0.005 \n",
    "print(f'Табличный критерий = {stats.t.ppf(1-0.005, 10-1)}')"
   ]
  },
  {
   "cell_type": "code",
   "execution_count": 123,
   "metadata": {},
   "outputs": [],
   "source": [
    "# Расчетное значение 𝑍н попадает в область принятия нулевой гипотезы (Zн < Zт), делаем вывод, что\n",
    "# средний вес пачки печенья составляет 200 г. "
   ]
  },
  {
   "cell_type": "code",
   "execution_count": 124,
   "metadata": {},
   "outputs": [],
   "source": [
    "# 4. Есть ли статистически значимые различия в росте дочерей?\n",
    "# Рост матерей 172, 177, 158, 170, 178,175, 164, 160, 169\n",
    "# Рост взрослых дочерей: 173, 175, 162, 174, 175, 168, 155, 170, 160"
   ]
  },
  {
   "cell_type": "code",
   "execution_count": 126,
   "metadata": {},
   "outputs": [
    {
     "data": {
      "text/plain": [
       "TtestResult(statistic=0.559522990335608, pvalue=0.5911212354055175, df=8)"
      ]
     },
     "execution_count": 126,
     "metadata": {},
     "output_type": "execute_result"
    }
   ],
   "source": [
    "import numpy as np\n",
    "import scipy.stats as stats\n",
    "\n",
    "x = np.array([172, 177, 158, 170, 178,175, 164, 160, 169])\n",
    "y = np.array([173, 175, 162, 174, 175, 168, 155, 170, 160])\n",
    "\n",
    "stats.ttest_rel(x, y)"
   ]
  },
  {
   "cell_type": "code",
   "execution_count": null,
   "metadata": {},
   "outputs": [],
   "source": [
    "# Вывод: статистически значимых различий не обнаружено, нулевая гипотеза подтверждается"
   ]
  }
 ],
 "metadata": {
  "kernelspec": {
   "display_name": "Python 3",
   "language": "python",
   "name": "python3"
  },
  "language_info": {
   "codemirror_mode": {
    "name": "ipython",
    "version": 3
   },
   "file_extension": ".py",
   "mimetype": "text/x-python",
   "name": "python",
   "nbconvert_exporter": "python",
   "pygments_lexer": "ipython3",
   "version": "3.11.0"
  },
  "orig_nbformat": 4
 },
 "nbformat": 4,
 "nbformat_minor": 2
}
